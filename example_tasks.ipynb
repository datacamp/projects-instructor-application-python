{
 "cells": [
  {
   "cell_type": "markdown",
   "metadata": {},
   "source": [
    "_Example project tasks taken from:_ https://learn.datacamp.com/projects/analyzing_password_strength\n",
    "# Bad passwords and the NIST guidelines"
   ]
  },
  {
   "cell_type": "code",
   "execution_count": 18,
   "metadata": {},
   "outputs": [
    {
     "name": "stdout",
     "output_type": "stream",
     "text": [
      "The ipython_nose extension is already loaded. To reload it, use:\n",
      "  %reload_ext ipython_nose\n"
     ]
    }
   ],
   "source": [
    "# To be able to run tests locally in the notebook, install the following:\n",
    "\n",
    "# pip install nose\n",
    "# pip install git+https://github.com/datacamp/ipython_nose\n",
    "\n",
    "# You might need to change pip into pip3 depending on how you installed Python.\n",
    "\n",
    "# Then load in the ipython_nose extension like this:\n",
    "%load_ext ipython_nose"
   ]
  },
  {
   "cell_type": "markdown",
   "metadata": {},
   "source": [
    "# 1. The NIST Special Publication 800-63B"
   ]
  },
  {
   "cell_type": "markdown",
   "metadata": {},
   "source": [
    "### Context \n",
    "If you – 50 years ago – needed to come up with a secret password you were probably part of a secret espionage organization or (more likely) you were pretending to be a spy when playing as a kid. Today, many of us are forced to come up with new passwords all the time when signing into sites and apps. As a password inventeur it is your responsibility to come up with good, hard-to-crack passwords. But it is also in the interest of sites and apps to make sure that you use good passwords. The problem is that it's really hard to define what makes a good password. However, the National Institute of Standards and Technology (NIST) knows what the second best thing is: To make sure you're at least not using a bad password.\n",
    "\n",
    "In this notebook, we will go through the rules in NIST Special Publication 800-63B which details what checks a verifier (what the NIST calls a second party responsible for storing and verifying passwords) should perform to make sure users don't pick bad passwords. We will go through the passwords of users from a fictional company and use Python to flag the users with bad passwords. But us being able to do this already means the fictional company is breaking one of the rules of 800-63B:\n",
    "\n",
    "    Verifiers SHALL store memorized secrets in a form that is resistant to offline attacks. Memorized secrets SHALL be salted and hashed using a suitable one-way key derivation function.\n",
    "\n",
    "That is, never save users' passwords in plaintext, always encrypt the passwords! Keeping this in mind for the next time we're building a password management system, let's load in the data.\n",
    "\n",
    "Warning: The list of passwords and the fictional user database both contain real passwords leaked from real websites. These passwords have not been filtered in any way and include words that are explicit, derogatory and offensive.\n",
    "\n",
    "Load in and inspect the usernames and passwords of the fictional users.\n",
    "\n",
    "    Load the pandas module.\n",
    "    Load the user data from the file contained in the path datasets/users.csv and store it as a DataFrame called users.\n",
    "    Print the number of rows (i.e. users).\n",
    "    Show the first 12 rows in users."
   ]
  },
  {
   "cell_type": "markdown",
   "metadata": {},
   "source": [
    "### Solution Code"
   ]
  },
  {
   "cell_type": "code",
   "execution_count": 31,
   "metadata": {},
   "outputs": [
    {
     "name": "stdout",
     "output_type": "stream",
     "text": [
      "982\n"
     ]
    },
    {
     "data": {
      "text/html": [
       "<div>\n",
       "<style scoped>\n",
       "    .dataframe tbody tr th:only-of-type {\n",
       "        vertical-align: middle;\n",
       "    }\n",
       "\n",
       "    .dataframe tbody tr th {\n",
       "        vertical-align: top;\n",
       "    }\n",
       "\n",
       "    .dataframe thead th {\n",
       "        text-align: right;\n",
       "    }\n",
       "</style>\n",
       "<table border=\"1\" class=\"dataframe\">\n",
       "  <thead>\n",
       "    <tr style=\"text-align: right;\">\n",
       "      <th></th>\n",
       "      <th>id</th>\n",
       "      <th>user_name</th>\n",
       "      <th>password</th>\n",
       "    </tr>\n",
       "  </thead>\n",
       "  <tbody>\n",
       "    <tr>\n",
       "      <th>0</th>\n",
       "      <td>1</td>\n",
       "      <td>vance.jennings</td>\n",
       "      <td>joobheco</td>\n",
       "    </tr>\n",
       "    <tr>\n",
       "      <th>1</th>\n",
       "      <td>2</td>\n",
       "      <td>consuelo.eaton</td>\n",
       "      <td>0869347314</td>\n",
       "    </tr>\n",
       "    <tr>\n",
       "      <th>2</th>\n",
       "      <td>3</td>\n",
       "      <td>mitchel.perkins</td>\n",
       "      <td>fabypotter</td>\n",
       "    </tr>\n",
       "    <tr>\n",
       "      <th>3</th>\n",
       "      <td>4</td>\n",
       "      <td>odessa.vaughan</td>\n",
       "      <td>aharney88</td>\n",
       "    </tr>\n",
       "    <tr>\n",
       "      <th>4</th>\n",
       "      <td>5</td>\n",
       "      <td>araceli.wilder</td>\n",
       "      <td>acecdn3000</td>\n",
       "    </tr>\n",
       "    <tr>\n",
       "      <th>5</th>\n",
       "      <td>6</td>\n",
       "      <td>shawn.harrington</td>\n",
       "      <td>5278049</td>\n",
       "    </tr>\n",
       "    <tr>\n",
       "      <th>6</th>\n",
       "      <td>7</td>\n",
       "      <td>evelyn.gay</td>\n",
       "      <td>master</td>\n",
       "    </tr>\n",
       "    <tr>\n",
       "      <th>7</th>\n",
       "      <td>8</td>\n",
       "      <td>noreen.hale</td>\n",
       "      <td>murphy</td>\n",
       "    </tr>\n",
       "    <tr>\n",
       "      <th>8</th>\n",
       "      <td>9</td>\n",
       "      <td>gladys.ward</td>\n",
       "      <td>lwsves2</td>\n",
       "    </tr>\n",
       "    <tr>\n",
       "      <th>9</th>\n",
       "      <td>10</td>\n",
       "      <td>brant.zimmerman</td>\n",
       "      <td>1190KAREN5572497</td>\n",
       "    </tr>\n",
       "    <tr>\n",
       "      <th>10</th>\n",
       "      <td>11</td>\n",
       "      <td>leanna.abbott</td>\n",
       "      <td>aivlys24</td>\n",
       "    </tr>\n",
       "    <tr>\n",
       "      <th>11</th>\n",
       "      <td>12</td>\n",
       "      <td>milford.hubbard</td>\n",
       "      <td>hubbard</td>\n",
       "    </tr>\n",
       "  </tbody>\n",
       "</table>\n",
       "</div>"
      ],
      "text/plain": [
       "    id         user_name          password\n",
       "0    1    vance.jennings          joobheco\n",
       "1    2    consuelo.eaton        0869347314\n",
       "2    3   mitchel.perkins        fabypotter\n",
       "3    4    odessa.vaughan         aharney88\n",
       "4    5    araceli.wilder        acecdn3000\n",
       "5    6  shawn.harrington           5278049\n",
       "6    7        evelyn.gay            master\n",
       "7    8       noreen.hale            murphy\n",
       "8    9       gladys.ward           lwsves2\n",
       "9   10   brant.zimmerman  1190KAREN5572497\n",
       "10  11     leanna.abbott          aivlys24\n",
       "11  12   milford.hubbard           hubbard"
      ]
     },
     "execution_count": 31,
     "metadata": {},
     "output_type": "execute_result"
    }
   ],
   "source": [
    "# Importing the pandas module\n",
    "import pandas as pd\n",
    "\n",
    "# Loading in datasets/users.csv \n",
    "users = pd.read_csv(\"datasets/users.csv\")\n",
    "\n",
    "# Printing out how many users we've got\n",
    "print(len(users))\n",
    "\n",
    "# Taking a look at the 12 first users\n",
    "users.head(12)"
   ]
  },
  {
   "cell_type": "markdown",
   "metadata": {},
   "source": [
    "### Tests"
   ]
  },
  {
   "cell_type": "code",
   "execution_count": 25,
   "metadata": {},
   "outputs": [
    {
     "data": {
      "application/json": "{\"success\": true, \"summary\": {\"tests\": 1, \"failures\": 0, \"errors\": 0}, \"tests\": [{\"name\": \"__main__.test_users_read_in_correctly\", \"success\": true, \"message\": \"\"}]}"
     },
     "metadata": {},
     "output_type": "display_data"
    },
    {
     "data": {
      "text/plain": [
       "1/1 tests passed\n"
      ]
     },
     "execution_count": 25,
     "metadata": {},
     "output_type": "execute_result"
    }
   ],
   "source": [
    "%%nose # needed at the start of every tests cell\n",
    "\n",
    "import pandas as pd\n",
    "\n",
    "def test_users_read_in_correctly():\n",
    "    correct_users = pd.read_csv(\"datasets/users.csv\")\n",
    "    assert correct_users.equals(users), \\\n",
    "    '`users` should contain the data in \"datasets/users.csv\".'"
   ]
  },
  {
   "cell_type": "markdown",
   "metadata": {},
   "source": [
    "## 2. Passwords should not be too short"
   ]
  },
  {
   "cell_type": "markdown",
   "metadata": {},
   "source": [
    "### Context\n",
    "\n",
    "If we take a look at the first 12 users above we already see some bad passwords. But let's not get ahead of ourselves and start flagging passwords manually. What is the first thing we should check according to the NIST Special Publication 800-63B?\n",
    "\n",
    "> Verifiers SHALL require subscriber-chosen memorized secrets to be at least 8 characters in length.\n",
    "\n",
    "Ok, so the passwords of our users shouldn't be too short. Let's start by checking that!\n",
    "\n",
    "Flag the passwords that are too short.\n",
    "\n",
    "- Add the column length to users which should list the number of characters in each password.\n",
    "- Flag the users with too short passwords by adding the column users['too_short'] which should be True when users['length'] is less than 8.\n",
    "- Print the count of the number of users with passwords that are too short.\n",
    "- Show the first 12 rows in users."
   ]
  },
  {
   "cell_type": "markdown",
   "metadata": {},
   "source": [
    "### Solution Code"
   ]
  },
  {
   "cell_type": "code",
   "execution_count": 26,
   "metadata": {},
   "outputs": [
    {
     "name": "stdout",
     "output_type": "stream",
     "text": [
      "376\n"
     ]
    },
    {
     "data": {
      "text/html": [
       "<div>\n",
       "<style scoped>\n",
       "    .dataframe tbody tr th:only-of-type {\n",
       "        vertical-align: middle;\n",
       "    }\n",
       "\n",
       "    .dataframe tbody tr th {\n",
       "        vertical-align: top;\n",
       "    }\n",
       "\n",
       "    .dataframe thead th {\n",
       "        text-align: right;\n",
       "    }\n",
       "</style>\n",
       "<table border=\"1\" class=\"dataframe\">\n",
       "  <thead>\n",
       "    <tr style=\"text-align: right;\">\n",
       "      <th></th>\n",
       "      <th>id</th>\n",
       "      <th>user_name</th>\n",
       "      <th>password</th>\n",
       "      <th>length</th>\n",
       "      <th>too_short</th>\n",
       "    </tr>\n",
       "  </thead>\n",
       "  <tbody>\n",
       "    <tr>\n",
       "      <th>0</th>\n",
       "      <td>1</td>\n",
       "      <td>vance.jennings</td>\n",
       "      <td>joobheco</td>\n",
       "      <td>8</td>\n",
       "      <td>False</td>\n",
       "    </tr>\n",
       "    <tr>\n",
       "      <th>1</th>\n",
       "      <td>2</td>\n",
       "      <td>consuelo.eaton</td>\n",
       "      <td>0869347314</td>\n",
       "      <td>10</td>\n",
       "      <td>False</td>\n",
       "    </tr>\n",
       "    <tr>\n",
       "      <th>2</th>\n",
       "      <td>3</td>\n",
       "      <td>mitchel.perkins</td>\n",
       "      <td>fabypotter</td>\n",
       "      <td>10</td>\n",
       "      <td>False</td>\n",
       "    </tr>\n",
       "    <tr>\n",
       "      <th>3</th>\n",
       "      <td>4</td>\n",
       "      <td>odessa.vaughan</td>\n",
       "      <td>aharney88</td>\n",
       "      <td>9</td>\n",
       "      <td>False</td>\n",
       "    </tr>\n",
       "    <tr>\n",
       "      <th>4</th>\n",
       "      <td>5</td>\n",
       "      <td>araceli.wilder</td>\n",
       "      <td>acecdn3000</td>\n",
       "      <td>10</td>\n",
       "      <td>False</td>\n",
       "    </tr>\n",
       "    <tr>\n",
       "      <th>5</th>\n",
       "      <td>6</td>\n",
       "      <td>shawn.harrington</td>\n",
       "      <td>5278049</td>\n",
       "      <td>7</td>\n",
       "      <td>True</td>\n",
       "    </tr>\n",
       "    <tr>\n",
       "      <th>6</th>\n",
       "      <td>7</td>\n",
       "      <td>evelyn.gay</td>\n",
       "      <td>master</td>\n",
       "      <td>6</td>\n",
       "      <td>True</td>\n",
       "    </tr>\n",
       "    <tr>\n",
       "      <th>7</th>\n",
       "      <td>8</td>\n",
       "      <td>noreen.hale</td>\n",
       "      <td>murphy</td>\n",
       "      <td>6</td>\n",
       "      <td>True</td>\n",
       "    </tr>\n",
       "    <tr>\n",
       "      <th>8</th>\n",
       "      <td>9</td>\n",
       "      <td>gladys.ward</td>\n",
       "      <td>lwsves2</td>\n",
       "      <td>7</td>\n",
       "      <td>True</td>\n",
       "    </tr>\n",
       "    <tr>\n",
       "      <th>9</th>\n",
       "      <td>10</td>\n",
       "      <td>brant.zimmerman</td>\n",
       "      <td>1190KAREN5572497</td>\n",
       "      <td>16</td>\n",
       "      <td>False</td>\n",
       "    </tr>\n",
       "    <tr>\n",
       "      <th>10</th>\n",
       "      <td>11</td>\n",
       "      <td>leanna.abbott</td>\n",
       "      <td>aivlys24</td>\n",
       "      <td>8</td>\n",
       "      <td>False</td>\n",
       "    </tr>\n",
       "    <tr>\n",
       "      <th>11</th>\n",
       "      <td>12</td>\n",
       "      <td>milford.hubbard</td>\n",
       "      <td>hubbard</td>\n",
       "      <td>7</td>\n",
       "      <td>True</td>\n",
       "    </tr>\n",
       "  </tbody>\n",
       "</table>\n",
       "</div>"
      ],
      "text/plain": [
       "    id         user_name          password  length  too_short\n",
       "0    1    vance.jennings          joobheco       8      False\n",
       "1    2    consuelo.eaton        0869347314      10      False\n",
       "2    3   mitchel.perkins        fabypotter      10      False\n",
       "3    4    odessa.vaughan         aharney88       9      False\n",
       "4    5    araceli.wilder        acecdn3000      10      False\n",
       "5    6  shawn.harrington           5278049       7       True\n",
       "6    7        evelyn.gay            master       6       True\n",
       "7    8       noreen.hale            murphy       6       True\n",
       "8    9       gladys.ward           lwsves2       7       True\n",
       "9   10   brant.zimmerman  1190KAREN5572497      16      False\n",
       "10  11     leanna.abbott          aivlys24       8      False\n",
       "11  12   milford.hubbard           hubbard       7       True"
      ]
     },
     "execution_count": 26,
     "metadata": {},
     "output_type": "execute_result"
    }
   ],
   "source": [
    "# Calculating the lengths of users' passwords\n",
    "users['length'] = users['password'].str.len() \n",
    "\n",
    "# Flagging the users with too short passwords\n",
    "users['too_short'] = users['length'] < 8\n",
    "\n",
    "# Counting and printing the number of users with too short passwords\n",
    "print(users['too_short'].sum())\n",
    "\n",
    "# Taking a look at the 12 first rows\n",
    "users.head(12)"
   ]
  },
  {
   "cell_type": "markdown",
   "metadata": {},
   "source": [
    "### Tests"
   ]
  },
  {
   "cell_type": "code",
   "execution_count": 27,
   "metadata": {},
   "outputs": [
    {
     "data": {
      "application/json": "{\"success\": true, \"summary\": {\"tests\": 1, \"failures\": 0, \"errors\": 0}, \"tests\": [{\"name\": \"__main__.test_length_sum_correct\", \"success\": true, \"message\": \"\"}]}"
     },
     "metadata": {},
     "output_type": "display_data"
    },
    {
     "data": {
      "text/plain": [
       "1/1 tests passed\n"
      ]
     },
     "execution_count": 27,
     "metadata": {},
     "output_type": "execute_result"
    }
   ],
   "source": [
    "%%nose # needed at the start of every tests cell\n",
    "\n",
    "def test_length_sum_correct():\n",
    "    assert (users['password'].str.len() < 8).sum() == users['too_short'].sum(), \\\n",
    "    \"users['too_short'] should be a True/False column where all rows with passwords < 8 are True.\""
   ]
  },
  {
   "cell_type": "markdown",
   "metadata": {},
   "source": [
    "## 3. Passwords should not be your name"
   ]
  },
  {
   "cell_type": "markdown",
   "metadata": {},
   "source": [
    "### Context\n",
    "It turns out many of our passwords were common English words too! Next up on the NIST list:\n",
    "\n",
    "> Verifiers SHALL compare the prospective secrets against a list that contains [...] context-specific words, such as the name of the service, the username, and derivatives thereof.\n",
    "\n",
    "Ok, so there are many things we could check here. One thing to notice is that our users' usernames consist of their first names and last names separated by a dot. For now, let's just flag passwords that are the same as either a user's first or last name.\n",
    "\n",
    "Flag passwords that are the same as the users first or last name.\n",
    "\n",
    "- Extract users first names from users['user_name'] into the new column users['first_name'].\n",
    "- Similarly, extract last names into the new column users['last_name'].\n",
    "- Add the column users['uses_name'] which should be True when a password is the same as each users' first or last name.\n",
    "- Count and print the number of users using names as passwords.\n",
    "- Show the first 12 rows in users."
   ]
  },
  {
   "cell_type": "markdown",
   "metadata": {},
   "source": [
    "### Solution Code"
   ]
  },
  {
   "cell_type": "code",
   "execution_count": 28,
   "metadata": {},
   "outputs": [
    {
     "data": {
      "text/html": [
       "<div>\n",
       "<style scoped>\n",
       "    .dataframe tbody tr th:only-of-type {\n",
       "        vertical-align: middle;\n",
       "    }\n",
       "\n",
       "    .dataframe tbody tr th {\n",
       "        vertical-align: top;\n",
       "    }\n",
       "\n",
       "    .dataframe thead th {\n",
       "        text-align: right;\n",
       "    }\n",
       "</style>\n",
       "<table border=\"1\" class=\"dataframe\">\n",
       "  <thead>\n",
       "    <tr style=\"text-align: right;\">\n",
       "      <th></th>\n",
       "      <th>id</th>\n",
       "      <th>user_name</th>\n",
       "      <th>password</th>\n",
       "      <th>length</th>\n",
       "      <th>too_short</th>\n",
       "      <th>first_name</th>\n",
       "      <th>last_name</th>\n",
       "      <th>uses_name</th>\n",
       "    </tr>\n",
       "  </thead>\n",
       "  <tbody>\n",
       "    <tr>\n",
       "      <th>0</th>\n",
       "      <td>1</td>\n",
       "      <td>vance.jennings</td>\n",
       "      <td>joobheco</td>\n",
       "      <td>8</td>\n",
       "      <td>False</td>\n",
       "      <td>vance</td>\n",
       "      <td>jennings</td>\n",
       "      <td>False</td>\n",
       "    </tr>\n",
       "    <tr>\n",
       "      <th>1</th>\n",
       "      <td>2</td>\n",
       "      <td>consuelo.eaton</td>\n",
       "      <td>0869347314</td>\n",
       "      <td>10</td>\n",
       "      <td>False</td>\n",
       "      <td>consuelo</td>\n",
       "      <td>eaton</td>\n",
       "      <td>False</td>\n",
       "    </tr>\n",
       "    <tr>\n",
       "      <th>2</th>\n",
       "      <td>3</td>\n",
       "      <td>mitchel.perkins</td>\n",
       "      <td>fabypotter</td>\n",
       "      <td>10</td>\n",
       "      <td>False</td>\n",
       "      <td>mitchel</td>\n",
       "      <td>perkins</td>\n",
       "      <td>False</td>\n",
       "    </tr>\n",
       "    <tr>\n",
       "      <th>3</th>\n",
       "      <td>4</td>\n",
       "      <td>odessa.vaughan</td>\n",
       "      <td>aharney88</td>\n",
       "      <td>9</td>\n",
       "      <td>False</td>\n",
       "      <td>odessa</td>\n",
       "      <td>vaughan</td>\n",
       "      <td>False</td>\n",
       "    </tr>\n",
       "    <tr>\n",
       "      <th>4</th>\n",
       "      <td>5</td>\n",
       "      <td>araceli.wilder</td>\n",
       "      <td>acecdn3000</td>\n",
       "      <td>10</td>\n",
       "      <td>False</td>\n",
       "      <td>araceli</td>\n",
       "      <td>wilder</td>\n",
       "      <td>False</td>\n",
       "    </tr>\n",
       "    <tr>\n",
       "      <th>5</th>\n",
       "      <td>6</td>\n",
       "      <td>shawn.harrington</td>\n",
       "      <td>5278049</td>\n",
       "      <td>7</td>\n",
       "      <td>True</td>\n",
       "      <td>shawn</td>\n",
       "      <td>harrington</td>\n",
       "      <td>False</td>\n",
       "    </tr>\n",
       "    <tr>\n",
       "      <th>6</th>\n",
       "      <td>7</td>\n",
       "      <td>evelyn.gay</td>\n",
       "      <td>master</td>\n",
       "      <td>6</td>\n",
       "      <td>True</td>\n",
       "      <td>evelyn</td>\n",
       "      <td>gay</td>\n",
       "      <td>False</td>\n",
       "    </tr>\n",
       "    <tr>\n",
       "      <th>7</th>\n",
       "      <td>8</td>\n",
       "      <td>noreen.hale</td>\n",
       "      <td>murphy</td>\n",
       "      <td>6</td>\n",
       "      <td>True</td>\n",
       "      <td>noreen</td>\n",
       "      <td>hale</td>\n",
       "      <td>False</td>\n",
       "    </tr>\n",
       "    <tr>\n",
       "      <th>8</th>\n",
       "      <td>9</td>\n",
       "      <td>gladys.ward</td>\n",
       "      <td>lwsves2</td>\n",
       "      <td>7</td>\n",
       "      <td>True</td>\n",
       "      <td>gladys</td>\n",
       "      <td>ward</td>\n",
       "      <td>False</td>\n",
       "    </tr>\n",
       "    <tr>\n",
       "      <th>9</th>\n",
       "      <td>10</td>\n",
       "      <td>brant.zimmerman</td>\n",
       "      <td>1190KAREN5572497</td>\n",
       "      <td>16</td>\n",
       "      <td>False</td>\n",
       "      <td>brant</td>\n",
       "      <td>zimmerman</td>\n",
       "      <td>False</td>\n",
       "    </tr>\n",
       "    <tr>\n",
       "      <th>10</th>\n",
       "      <td>11</td>\n",
       "      <td>leanna.abbott</td>\n",
       "      <td>aivlys24</td>\n",
       "      <td>8</td>\n",
       "      <td>False</td>\n",
       "      <td>leanna</td>\n",
       "      <td>abbott</td>\n",
       "      <td>False</td>\n",
       "    </tr>\n",
       "    <tr>\n",
       "      <th>11</th>\n",
       "      <td>12</td>\n",
       "      <td>milford.hubbard</td>\n",
       "      <td>hubbard</td>\n",
       "      <td>7</td>\n",
       "      <td>True</td>\n",
       "      <td>milford</td>\n",
       "      <td>hubbard</td>\n",
       "      <td>True</td>\n",
       "    </tr>\n",
       "  </tbody>\n",
       "</table>\n",
       "</div>"
      ],
      "text/plain": [
       "    id         user_name          password  length  too_short first_name  \\\n",
       "0    1    vance.jennings          joobheco       8      False      vance   \n",
       "1    2    consuelo.eaton        0869347314      10      False   consuelo   \n",
       "2    3   mitchel.perkins        fabypotter      10      False    mitchel   \n",
       "3    4    odessa.vaughan         aharney88       9      False     odessa   \n",
       "4    5    araceli.wilder        acecdn3000      10      False    araceli   \n",
       "5    6  shawn.harrington           5278049       7       True      shawn   \n",
       "6    7        evelyn.gay            master       6       True     evelyn   \n",
       "7    8       noreen.hale            murphy       6       True     noreen   \n",
       "8    9       gladys.ward           lwsves2       7       True     gladys   \n",
       "9   10   brant.zimmerman  1190KAREN5572497      16      False      brant   \n",
       "10  11     leanna.abbott          aivlys24       8      False     leanna   \n",
       "11  12   milford.hubbard           hubbard       7       True    milford   \n",
       "\n",
       "     last_name  uses_name  \n",
       "0     jennings      False  \n",
       "1        eaton      False  \n",
       "2      perkins      False  \n",
       "3      vaughan      False  \n",
       "4       wilder      False  \n",
       "5   harrington      False  \n",
       "6          gay      False  \n",
       "7         hale      False  \n",
       "8         ward      False  \n",
       "9    zimmerman      False  \n",
       "10      abbott      False  \n",
       "11     hubbard       True  "
      ]
     },
     "execution_count": 28,
     "metadata": {},
     "output_type": "execute_result"
    }
   ],
   "source": [
    "# Extracting first and last names into their own columns\n",
    "users['first_name'] = users['user_name'].str.extract(r'(^\\w+)', expand = False)\n",
    "users['last_name'] = users['user_name'].str.extract(r'(\\w+$)', expand = False)\n",
    "\n",
    "# Flagging the users with passwords that matches their names\n",
    "users['uses_name'] = (\n",
    "    (users['password'].str.lower() == users['first_name']) |\n",
    "    (users['password'].str.lower() == users['last_name']))\n",
    "\n",
    "# Counting and printing the number of users using names as passwords\n",
    "users['uses_name'].sum()\n",
    "\n",
    "# Taking a look at the 12 first rows\n",
    "users.head(12)"
   ]
  },
  {
   "cell_type": "markdown",
   "metadata": {},
   "source": [
    "### Tests"
   ]
  },
  {
   "cell_type": "code",
   "execution_count": 29,
   "metadata": {},
   "outputs": [
    {
     "data": {
      "application/json": "{\"success\": true, \"summary\": {\"tests\": 1, \"failures\": 0, \"errors\": 0}, \"tests\": [{\"name\": \"__main__.test_not_same_as_name\", \"success\": true, \"message\": \"\"}]}"
     },
     "metadata": {},
     "output_type": "display_data"
    },
    {
     "data": {
      "text/plain": [
       "1/1 tests passed\n"
      ]
     },
     "execution_count": 29,
     "metadata": {},
     "output_type": "execute_result"
    }
   ],
   "source": [
    "%%nose\n",
    "\n",
    "def test_not_same_as_name():\n",
    "    correct_first_name = users['user_name'].str.extract(r'(^\\w+)', expand = False)\n",
    "    correct_last_name = users['user_name'].str.extract(r'(\\w+$)', expand = False)\n",
    "\n",
    "    # Flagging the users with passwords that matches their names\n",
    "    correct_uses_name = (\n",
    "        (users['password'].str.lower() == users['first_name']) |\n",
    "        (users['password'].str.lower() == users['last_name']))\n",
    "    \n",
    "    assert correct_uses_name.sum() == users['uses_name'].sum(), \\\n",
    "    \"users['uses_name'] should be True for each row with a password which is also the first or last name.\""
   ]
  }
 ],
 "metadata": {
  "kernelspec": {
   "display_name": "Python 3",
   "language": "python",
   "name": "python3"
  },
  "language_info": {
   "codemirror_mode": {
    "name": "ipython",
    "version": 3
   },
   "file_extension": ".py",
   "mimetype": "text/x-python",
   "name": "python",
   "nbconvert_exporter": "python",
   "pygments_lexer": "ipython3",
   "version": "3.7.6"
  }
 },
 "nbformat": 4,
 "nbformat_minor": 4
}
