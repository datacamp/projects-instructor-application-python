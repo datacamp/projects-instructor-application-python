{
 "cells": [
  {
   "cell_type": "markdown",
   "metadata": {},
   "source": [
    "<img src=\"img/datacamp.png\" style=\"float: right;\" alt=\"DataCamp Logo\" width=\"300\"/>"
   ]
  },
  {
   "cell_type": "markdown",
   "metadata": {},
   "source": [
    "# Instructions"
   ]
  },
  {
   "cell_type": "markdown",
   "metadata": {},
   "source": [
    "Welcome to the audition template for building a DataCamp Project! This is an audition template notebook where you will complete the first three tasks of your project, plus scratch code for the rest of your project. \n",
    "\n",
    "_**Note: nothing needs to be filled out in this cell. This simply holds instructions and useful information for the two steps of the audition template.**_\n",
    "\n",
    "In Step 1, you'll see the structure of a DataCamp Guided Project: a series of \"tasks\" where each task consists of a title, context, solution code, and tests. There are 8-12 tasks in a Guided Project and each task can have up to 10 lines of code. As best you can, divide your Project as it is currently visualized in your mind into tasks and fill out the template structure for the first three tasks of your Project. You can find a completed example of this in `example_tasks.ipynb` [located in the GitHub repo](example_tasks.ipynb). \n",
    "\n",
    "The purpose of tests is to see if the student's code has produced the desired output and to deliver feedback on the code students. Tests are creating using the `nose` testing framework and the solution code (and other correct submissions) should pass all tests. To be able to run tests locally in the notebook, install the following:\n",
    "\n",
    "```\n",
    "pip install nose\n",
    "pip install git+https://github.com/datacamp/ipython_nose\n",
    "```\n",
    "\n",
    "You might need to change pip into pip3 depending on how you installed Python. To learn more about writing tests, refer to this [article](https://instructor-support.datacamp.com/en/articles/4544008-writing-project-tests-guided-and-unguided-r-and-python). \n",
    "\n",
    "In Step 2, you'll be asked to complete a rough draft of the code for the remaining tasks. No titles, context, nor tests are needed here. "
   ]
  },
  {
   "cell_type": "markdown",
   "metadata": {},
   "source": [
    "# Step 1: First three tasks"
   ]
  },
  {
   "cell_type": "code",
   "execution_count": 11,
   "metadata": {},
   "outputs": [
    {
     "name": "stdout",
     "output_type": "stream",
     "text": [
      "The ipython_nose extension is already loaded. To reload it, use:\n",
      "  %reload_ext ipython_nose\n"
     ]
    }
   ],
   "source": [
    "# After installing the necessary packages, load in the ipython_nose extension to run tests locally:\n",
    "%load_ext ipython_nose"
   ]
  },
  {
   "cell_type": "markdown",
   "metadata": {},
   "source": [
    "## 1. Title of the first task  (<= 55 chars) (sentence case)"
   ]
  },
  {
   "cell_type": "markdown",
   "metadata": {},
   "source": [
    "### Context\n",
    "An exciting intro to the analysis. Provide context on the problem you're going to solve, the dataset(s) you're going to use, the relevant industry, etc. You may wish to briefly introduce the techniques you're going to use. Tell a story to get students excited! It should at most have 1200 characters.\n",
    "\n",
    "The most common error instructors make in **context cells** is referring to the student or the Project. We want Project notebooks to appear as a blog post or a data analysis. \n",
    "\n",
    "- Bad: _In this Project, you will..._\n",
    "- Good: _In this notebook, we will..._\n",
    "\n",
    "The first task in Projects often involve loading data. Please store any data files you use in the `datasets/` folder in this repository.\n",
    "\n",
    "Images are welcome additions to every Markdown cell, but especially this first one. Make sure the images you use have a [permissive license](https://support.google.com/websearch/answer/29508?hl=en) and display them using [Markdown](https://github.com/adam-p/markdown-here/wiki/Markdown-Cheatsheet#images). Store your images in the `img/` folder in this repository."
   ]
  },
  {
   "cell_type": "markdown",
   "metadata": {},
   "source": [
    "### Solution code"
   ]
  },
  {
   "cell_type": "code",
   "execution_count": 1,
   "metadata": {},
   "outputs": [],
   "source": [
    "# Code and comments for the first task\n",
    "# It should consist of up to 10 lines of code (not including comments)\n",
    "# and take at most 10 seconds to execute on an average laptop."
   ]
  },
  {
   "cell_type": "markdown",
   "metadata": {},
   "source": [
    "### Tests"
   ]
  },
  {
   "cell_type": "code",
   "execution_count": 8,
   "metadata": {},
   "outputs": [
    {
     "name": "stderr",
     "output_type": "stream",
     "text": [
      "UsageError: %%nose is a cell magic, but the cell body is empty. Did you mean the line magic %nose (single %)?\n"
     ]
    }
   ],
   "source": [
    "%%nose # needed at the start of every tests cell "
   ]
  },
  {
   "cell_type": "markdown",
   "metadata": {},
   "source": [
    "## 2. Title of the second task (<= 55 chars)  (sentence case)"
   ]
  },
  {
   "cell_type": "markdown",
   "metadata": {},
   "source": [
    "### Context\n",
    "Context / background / story / etc. This cell should at most have 800 characters."
   ]
  },
  {
   "cell_type": "markdown",
   "metadata": {
    "collapsed": true
   },
   "source": [
    "### Solution Code"
   ]
  },
  {
   "cell_type": "code",
   "execution_count": null,
   "metadata": {},
   "outputs": [],
   "source": [
    "# Code and comments for the second task\n",
    "# It should consist of up to 10 lines of code (not including comments)\n",
    "# and take at most 10 seconds to execute on an average laptop."
   ]
  },
  {
   "cell_type": "markdown",
   "metadata": {},
   "source": [
    "### Tests"
   ]
  },
  {
   "cell_type": "code",
   "execution_count": 8,
   "metadata": {},
   "outputs": [
    {
     "name": "stderr",
     "output_type": "stream",
     "text": [
      "UsageError: %%nose is a cell magic, but the cell body is empty. Did you mean the line magic %nose (single %)?\n"
     ]
    }
   ],
   "source": [
    "%%nose # needed at the start of every tests cell "
   ]
  },
  {
   "cell_type": "markdown",
   "metadata": {},
   "source": [
    "## 3. Title of the third task (<= 55 chars)  (sentence case)"
   ]
  },
  {
   "cell_type": "markdown",
   "metadata": {},
   "source": [
    "Context / background / story / etc. This cell should at most have 800 characters."
   ]
  },
  {
   "cell_type": "code",
   "execution_count": 3,
   "metadata": {
    "collapsed": true
   },
   "outputs": [],
   "source": [
    "# Code and comments for the third task\n",
    "# It should consist of up to 10 lines of code (not including comments)\n",
    "# and take at most 10 seconds to execute on an average laptop."
   ]
  },
  {
   "cell_type": "markdown",
   "metadata": {},
   "source": [
    "### Tests"
   ]
  },
  {
   "cell_type": "code",
   "execution_count": 8,
   "metadata": {},
   "outputs": [
    {
     "name": "stderr",
     "output_type": "stream",
     "text": [
      "UsageError: %%nose is a cell magic, but the cell body is empty. Did you mean the line magic %nose (single %)?\n"
     ]
    }
   ],
   "source": [
    "%%nose # needed at the start of every tests cell "
   ]
  },
  {
   "cell_type": "markdown",
   "metadata": {},
   "source": [
    "# Step 2: Rough draft of remaining code\n",
    "Please include a rough draft of the code for the rest of your proposed Project below. Use as many code cells as you'd like. No accompanying text (i.e. context) or tests needed, but code comments are always helpful!"
   ]
  },
  {
   "cell_type": "code",
   "execution_count": null,
   "metadata": {},
   "outputs": [],
   "source": []
  }
 ],
 "metadata": {
  "kernelspec": {
   "display_name": "Python 3",
   "language": "python",
   "name": "python3"
  },
  "language_info": {
   "codemirror_mode": {
    "name": "ipython",
    "version": 3
   },
   "file_extension": ".py",
   "mimetype": "text/x-python",
   "name": "python",
   "nbconvert_exporter": "python",
   "pygments_lexer": "ipython3",
   "version": "3.7.6"
  }
 },
 "nbformat": 4,
 "nbformat_minor": 2
}
